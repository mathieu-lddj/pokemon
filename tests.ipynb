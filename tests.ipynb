{
 "cells": [
  {
   "cell_type": "markdown",
   "id": "bf687706",
   "metadata": {},
   "source": [
    "\n"
   ]
  },
  {
   "cell_type": "code",
   "execution_count": 18,
   "id": "54ee5084",
   "metadata": {},
   "outputs": [],
   "source": [
    "class Pokemon:\n",
    "    def __init__(self, nom, pvm, pa, type):\n",
    "        self.nom: str = nom\n",
    "        self.pvm: int = pvm\n",
    "        self.pv: int = pvm\n",
    "        self.pa: int = pa\n",
    "        self.type: str = type\n",
    "\n",
    "    def degats(self, damage: int):\n",
    "        self.pv -= damage\n",
    "        if self.pv < 0:\n",
    "            self.pv=0\n",
    "        \n",
    "    def attaquer(self, cible):\n",
    "        cible.degats(self.pa)\n",
    "        \n",
    "\n",
    "    def passertour(self):\n",
    "        pass\n",
    "\n",
    "    def potion(self):\n",
    "        if self.pv > self.pvm - 30:\n",
    "            self.pv = self.pvm\n",
    "        else :\n",
    "            self.pv += 30\n",
    "\n",
    "    def is_alive(self):\n",
    "        return True if self.pv > 0 else False\n",
    "    \n",
    "\n"
   ]
  },
  {
   "cell_type": "code",
   "execution_count": 19,
   "id": "14dcf209",
   "metadata": {},
   "outputs": [
    {
     "name": "stdout",
     "output_type": "stream",
     "text": [
      "numéro:0\n",
      "nom: Boustiflor\n",
      "pv max: 180\n",
      "puissance d'attaque: 40\n",
      "type: plante\n",
      "\n",
      "\n",
      "numéro:1\n",
      "nom: Salamèche\n",
      "pv max: 180\n",
      "puissance d'attaque: 40\n",
      "type: feu\n",
      "\n",
      "\n",
      "numéro:2\n",
      "nom: magicarpe\n",
      "pv max: 180\n",
      "puissance d'attaque: 40\n",
      "type: eau\n",
      "\n",
      "\n",
      "numéro:3\n",
      "nom: Léviator\n",
      "pv max: 180\n",
      "puissance d'attaque: 40\n",
      "type: eau\n",
      "\n",
      "\n",
      "numéro:4\n",
      "nom: caninos\n",
      "pv max: 180\n",
      "puissance d'attaque: 40\n",
      "type: feu\n",
      "\n",
      "\n",
      "numéro:5\n",
      "nom: Bulbizarre\n",
      "pv max: 180\n",
      "puissance d'attaque: 40\n",
      "type: plante\n",
      "\n",
      "\n"
     ]
    }
   ],
   "source": [
    "p1 = Pokemon(nom='Boustiflor', pvm=180, pa=40, type='plante')\n",
    "p2 = Pokemon(nom='Salamèche', pvm=180, pa=40, type='feu')\n",
    "p3 = Pokemon(nom='magicarpe', pvm=180, pa=40, type='eau')\n",
    "p4 = Pokemon(nom='Léviator', pvm=180, pa=40, type='eau')\n",
    "p5 = Pokemon(nom='caninos', pvm=180, pa=40, type='feu')\n",
    "p6 = Pokemon(nom='Bulbizarre', pvm=180, pa=40, type='plante')\n",
    "\n",
    "liste= [p1,p2,p3,p4,p5,p6]\n",
    "\n",
    "for i in range(len(liste)):\n",
    "    print(f\"numéro:{i}\\nnom: {liste[i].nom}\\npv max: {liste[i].pvm}\\npuissance d'attaque: {liste[i].pa}\\ntype: {liste[i].type}\\n\\n\")"
   ]
  },
  {
   "cell_type": "code",
   "execution_count": 22,
   "id": "9251ccd1",
   "metadata": {},
   "outputs": [
    {
     "name": "stdout",
     "output_type": "stream",
     "text": [
      "Salamèche\n",
      "caninos\n",
      "Salamèche\n",
      "caninos\n",
      "Salamèche\n",
      "caninos\n",
      "Salamèche\n",
      "caninos\n",
      "Salamèche\n",
      "caninos\n",
      "Salamèche\n",
      "caninos\n",
      "fin de partie\n"
     ]
    }
   ],
   "source": [
    "import random as rd\n",
    "\n",
    "inp = ''\n",
    "while inp not in (0,1,2,3,4,5,6,7,8,9):\n",
    "    inp = int(input('choisis un numéro de pokemon parmis cette liste'))\n",
    "Pokemonjoueur = liste [inp]\n",
    "liste.pop(inp)\n",
    "Pokemonadverse = liste[rd.randint(0,8)]\n",
    "playing = True\n",
    "while playing == True :\n",
    "    print(Pokemonjoueur.nom)\n",
    "    print(Pokemonadverse.nom)\n",
    "    t = '' \n",
    "    while t not in (1,2,3):\n",
    "        t= int(input(\"1:attaquer\\n2:potions de soin\\n3:passer tour\"))\n",
    "    if t ==1 :\n",
    "        Pokemonjoueur.attaquer(Pokemonadverse)\n",
    "    elif t== 2:\n",
    "        Pokemonjoueur.potion()\n",
    "    else :\n",
    "        Pokemonjoueur.passertour()\n",
    "    if not Pokemonadverse.is_alive():\n",
    "        playing = False\n",
    "        winner = \" Vitcoire\"\n",
    "        pass\n",
    "\n",
    "    t = rd.randint(1,3)\n",
    "\n",
    "    if t ==1 :\n",
    "        Pokemonadverse.attaquer(Pokemonadverse)\n",
    "    elif t== 2:\n",
    "        Pokemonadverse.potion()\n",
    "    else :\n",
    "        Pokemonadverse.passertour()\n",
    "    if not Pokemonjoueur.is_alive():\n",
    "        playing = False\n",
    "        winner = 'Défaite'\n",
    "        pass       \n",
    "print('fin de partie') \n"
   ]
  },
  {
   "cell_type": "code",
   "execution_count": null,
   "id": "04772549",
   "metadata": {},
   "outputs": [],
   "source": [
    "class partie:\n",
    "    pass\n",
    "\n",
    "class jeu:\n",
    "    pass"
   ]
  }
 ],
 "metadata": {
  "kernelspec": {
   "display_name": "Python 3",
   "language": "python",
   "name": "python3"
  },
  "language_info": {
   "codemirror_mode": {
    "name": "ipython",
    "version": 3
   },
   "file_extension": ".py",
   "mimetype": "text/x-python",
   "name": "python",
   "nbconvert_exporter": "python",
   "pygments_lexer": "ipython3",
   "version": "3.12.10"
  }
 },
 "nbformat": 4,
 "nbformat_minor": 5
}
